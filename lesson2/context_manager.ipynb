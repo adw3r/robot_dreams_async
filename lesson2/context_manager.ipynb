{
 "cells": [
  {
   "cell_type": "code",
   "execution_count": 1,
   "metadata": {},
   "outputs": [],
   "source": [
    "import asyncio"
   ]
  },
  {
   "cell_type": "code",
   "execution_count": 4,
   "metadata": {},
   "outputs": [],
   "source": [
    "class Context:\n",
    "\n",
    "    def __init__(self, loop):\n",
    "        self.loop = loop\n",
    "\n",
    "    async def __aenter__(self):\n",
    "        print('async entering context')\n",
    "        await asyncio.sleep(0.1)\n",
    "        return self\n",
    "\n",
    "    async def __aexit__(self, exc_type, exc, tb):\n",
    "        print('async exiting context')\n",
    "\n",
    "    def __enter__(self):\n",
    "        print('sync entering context')\n",
    "        return self\n",
    "\n",
    "    def __exit__(self, exc_type, exc, tb):\n",
    "        print('sync exiting context')"
   ]
  },
  {
   "cell_type": "code",
   "execution_count": 5,
   "metadata": {},
   "outputs": [
    {
     "name": "stdout",
     "output_type": "stream",
     "text": [
      "sync entering context\n",
      "inside context\n",
      "sync exiting context\n"
     ]
    }
   ],
   "source": [
    "with Context(asyncio.get_event_loop()) as c:\n",
    "    print('inside context')\n"
   ]
  },
  {
   "cell_type": "code",
   "execution_count": 6,
   "metadata": {},
   "outputs": [
    {
     "name": "stdout",
     "output_type": "stream",
     "text": [
      "async entering context\n",
      "inside async context\n",
      "async exiting context\n"
     ]
    }
   ],
   "source": [
    "async with Context(asyncio.get_event_loop()) as c:\n",
    "    print('inside async context')"
   ]
  },
  {
   "cell_type": "code",
   "execution_count": null,
   "metadata": {},
   "outputs": [],
   "source": []
  }
 ],
 "metadata": {
  "kernelspec": {
   "display_name": "Python 3",
   "language": "python",
   "name": "python3"
  },
  "language_info": {
   "codemirror_mode": {
    "name": "ipython",
    "version": 3
   },
   "file_extension": ".py",
   "mimetype": "text/x-python",
   "name": "python",
   "nbconvert_exporter": "python",
   "pygments_lexer": "ipython3",
   "version": "3.12.2"
  }
 },
 "nbformat": 4,
 "nbformat_minor": 2
}
